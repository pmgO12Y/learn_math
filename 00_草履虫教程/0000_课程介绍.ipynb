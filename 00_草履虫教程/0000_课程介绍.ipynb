{
 "cells": [
  {
   "cell_type": "markdown",
   "metadata": {},
   "source": [
    "【竟然比刷剧还爽？】草履虫都能看懂的机器学习必备数学基础课程，我不信还有人学不明白！\n",
    "\n",
    "https://www.bilibili.com/video/BV1Yg411X7gw?p=3&spm_id_from=pageDriver&vd_source=9098f44d75908d4912967a6cf26d7cb7"
   ]
  },
  {
   "cell_type": "markdown",
   "metadata": {},
   "source": [
    "image.png"
   ]
  },
  {
   "cell_type": "code",
   "execution_count": null,
   "metadata": {},
   "outputs": [],
   "source": [
    "def refactoring_example(spellbook):\n",
    "    result = []\n",
    "    result.extend(spell for spell in spellbook if spell.is_awesome)\n",
    "    print(result)"
   ]
  },
  {
   "cell_type": "code",
   "execution_count": null,
   "metadata": {},
   "outputs": [],
   "source": []
  },
  {
   "cell_type": "code",
   "execution_count": null,
   "metadata": {},
   "outputs": [],
   "source": [
    "def refactoring_example(spellbook):\n",
    "    result = [spell for spell in spellbook if spell.is_awesome]\n",
    "    print(result)"
   ]
  },
  {
   "cell_type": "code",
   "execution_count": 1,
   "metadata": {},
   "outputs": [
    {
     "name": "stdout",
     "output_type": "stream",
     "text": [
      "[1, 4, 27, 256, 3125, 46656, 823543, 16777216, 387420489, 1]\n"
     ]
    }
   ],
   "source": [
    "result = []\n",
    "for n in [1,2,3,4,5,6,7,8,9,0]:\n",
    "        result.append(n**n)\n",
    "print(result)"
   ]
  },
  {
   "cell_type": "code",
   "execution_count": null,
   "metadata": {},
   "outputs": [],
   "source": [
    "result = []\n",
    "for n in [1,2,3,4,5,6,7,8,9,0]:\n",
    "        result.append(n**n)\n",
    "print(result)"
   ]
  },
  {
   "cell_type": "code",
   "execution_count": 6,
   "metadata": {},
   "outputs": [
    {
     "name": "stdout",
     "output_type": "stream",
     "text": [
      "[1, 4, 27, 256, 3125, 46656, 823543, 16777216, 387420489, 10000000000]\n"
     ]
    }
   ],
   "source": [
    "result = [n**n for n in [1,2,3,4,5,6,7,8,9,10]]\n",
    "print(result)"
   ]
  }
 ],
 "metadata": {
  "kernelspec": {
   "display_name": "Python 3.9.12 ('AI_3.9')",
   "language": "python",
   "name": "python3"
  },
  "language_info": {
   "codemirror_mode": {
    "name": "ipython",
    "version": 3
   },
   "file_extension": ".py",
   "mimetype": "text/x-python",
   "name": "python",
   "nbconvert_exporter": "python",
   "pygments_lexer": "ipython3",
   "version": "3.9.12"
  },
  "orig_nbformat": 4,
  "vscode": {
   "interpreter": {
    "hash": "9c093b7b26e1e739ac21572582cdf5fd1789f26801a2b190b800e1c2f76acbcc"
   }
  }
 },
 "nbformat": 4,
 "nbformat_minor": 2
}
