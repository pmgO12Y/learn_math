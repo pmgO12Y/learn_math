{
 "cells": [
  {
   "cell_type": "markdown",
   "metadata": {},
   "source": [
    "本地编辑03【学完后，草履虫都可以变哥斯拉！】中南教授联合南安普顿AI博士打造的机器学习数学基础教程！-人工智能/AI/微积分/概率\n",
    "\n",
    "https://www.bilibili.com/video/BV1YV4y147jF?spm_id_from=333.880.my_history.page.click&vd_source=9098f44d75908d4912967a6cf26d7cb7"
   ]
  },
  {
   "cell_type": "markdown",
   "metadata": {},
   "source": [
    "image.png"
   ]
  }
 ],
 "metadata": {
  "kernelspec": {
   "display_name": "Python 3.9.12 ('AI_3.9')",
   "language": "python",
   "name": "python3"
  },
  "language_info": {
   "codemirror_mode": {
    "name": "ipython",
    "version": 3
   },
   "file_extension": ".py",
   "mimetype": "text/x-python",
   "name": "python",
   "nbconvert_exporter": "python",
   "pygments_lexer": "ipython3",
   "version": "3.9.12"
  },
  "orig_nbformat": 4,
  "vscode": {
   "interpreter": {
    "hash": "9c093b7b26e1e739ac21572582cdf5fd1789f26801a2b190b800e1c2f76acbcc"
   }
  }
 },
 "nbformat": 4,
 "nbformat_minor": 2
}
