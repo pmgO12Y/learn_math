{
 "cells": [
  {
   "cell_type": "markdown",
   "metadata": {},
   "source": [
    "本地编辑02 03 04【学完后，草履虫都可以变哥斯拉！】中南教授联合南安普顿AI博士打造的机器学习数学基础教程！-人工智能/AI/微积分/概率\n",
    "\n",
    "https://www.bilibili.com/video/BV1YV4y147jF?spm_id_from=333.880.my_history.page.click&vd_source=9098f44d75908d4912967a6cf26d7cb7"
   ]
  },
  {
   "cell_type": "markdown",
   "metadata": {},
   "source": [
    "image.png"
   ]
  },
  {
   "cell_type": "code",
   "execution_count": null,
   "metadata": {},
   "outputs": [],
   "source": [
    "def refactoring_example(spellbook):\n",
    "    result = []\n",
    "    result.extend(spell for spell in spellbook if spell.is_awesome)\n",
    "    print(result)"
   ]
  },
  {
   "cell_type": "code",
   "execution_count": null,
   "metadata": {},
   "outputs": [],
   "source": []
  },
  {
   "cell_type": "code",
   "execution_count": null,
   "metadata": {},
   "outputs": [],
   "source": [
    "def refactoring_example(spellbook):\n",
    "    result = [spell for spell in spellbook if spell.is_awesome]\n",
    "    print(result)"
   ]
  },
  {
   "cell_type": "code",
   "execution_count": 1,
   "metadata": {},
   "outputs": [
    {
     "name": "stdout",
     "output_type": "stream",
     "text": [
      "[1, 4, 27, 256, 3125, 46656, 823543, 16777216, 387420489, 1]\n"
     ]
    }
   ],
   "source": [
    "result = []\n",
    "for n in [1,2,3,4,5,6,7,8,9,0]:\n",
    "        result.append(n**n)\n",
    "print(result)"
   ]
  },
  {
   "cell_type": "code",
   "execution_count": null,
   "metadata": {},
   "outputs": [],
   "source": [
    "result = []\n",
    "for n in [1,2,3,4,5,6,7,8,9,0]:\n",
    "        result.append(n**n)\n",
    "print(result)"
   ]
  },
  {
   "cell_type": "code",
   "execution_count": 3,
   "metadata": {},
   "outputs": [
    {
     "name": "stdout",
     "output_type": "stream",
     "text": [
      "[1, 4, 27, 256, 3125, 46656, 823543, 16777216, 387420489, 1]\n"
     ]
    }
   ],
   "source": [
    "result = [n**n for n in [1,2,3,4,5,6,7,8,9,0]]\n",
    "print(result)"
   ]
  }
 ],
 "metadata": {
  "kernelspec": {
   "display_name": "Python 3.9.12 ('AI_3.9')",
   "language": "python",
   "name": "python3"
  },
  "language_info": {
   "codemirror_mode": {
    "name": "ipython",
    "version": 3
   },
   "file_extension": ".py",
   "mimetype": "text/x-python",
   "name": "python",
   "nbconvert_exporter": "python",
   "pygments_lexer": "ipython3",
   "version": "3.9.12"
  },
  "orig_nbformat": 4,
  "vscode": {
   "interpreter": {
    "hash": "9c093b7b26e1e739ac21572582cdf5fd1789f26801a2b190b800e1c2f76acbcc"
   }
  }
 },
 "nbformat": 4,
 "nbformat_minor": 2
}
